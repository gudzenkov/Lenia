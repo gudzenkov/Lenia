{
  "cells": [
    {
      "cell_type": "markdown",
      "metadata": {
        "id": "view-in-github",
        "colab_type": "text"
      },
      "source": [
        "<a href=\"https://colab.research.google.com/github/gudzenkov/Lenia/blob/main/notebooks/particle_lenia.ipynb\" target=\"_parent\"><img src=\"https://colab.research.google.com/assets/colab-badge.svg\" alt=\"Open In Colab\"/></a>"
      ]
    },
    {
      "cell_type": "code",
      "execution_count": null,
      "metadata": {
        "cellView": "form",
        "id": "cwqoVbAyXM9y"
      },
      "outputs": [],
      "source": [
        "#@title\n",
        "#@markdown *Copyright 2022 Google LLC*\n",
        "\n",
        "#@markdown Licensed under the Apache License, Version 2.0 (the \"License\");\n",
        "# you may not use this file except in compliance with the License.\n",
        "# You may obtain a copy of the License at\n",
        "\n",
        "# [https://www.apache.org/licenses/LICENSE-2.0](https://www.apache.org/licenses/LICENSE-2.0)\n",
        "\n",
        "# Unless required by applicable law or agreed to in writing, software\n",
        "# distributed under the License is distributed on an \"AS IS\" BASIS,\n",
        "# WITHOUT WARRANTIES OR CONDITIONS OF ANY KIND, either express or implied.\n",
        "# See the License for the specific language governing permissions and\n",
        "# limitations under the License."
      ]
    },
    {
      "cell_type": "code",
      "execution_count": null,
      "metadata": {
        "cellView": "form",
        "id": "n2sefu1uXv7Z"
      },
      "outputs": [],
      "source": [
        "#@title (imports & utils)\n",
        "import io\n",
        "import base64\n",
        "import time\n",
        "from functools import partial\n",
        "from typing import NamedTuple\n",
        "from collections import namedtuple\n",
        "import subprocess\n",
        "\n",
        "import PIL\n",
        "import numpy as np\n",
        "import matplotlib.pylab as pl\n",
        "\n",
        "from IPython.display import display, Image, HTML, clear_output\n",
        "import ipywidgets as widgets\n",
        "\n",
        "import jax\n",
        "import jax.numpy as jp\n",
        "\n",
        "\n",
        "def np2pil(a):\n",
        "  if a.dtype in [np.float32, np.float64]:\n",
        "    a = np.uint8(np.clip(a, 0, 1)*255)\n",
        "  return PIL.Image.fromarray(a)\n",
        "\n",
        "def imwrite(f, a, fmt=None):\n",
        "  a = np.asarray(a)\n",
        "  if isinstance(f, str):\n",
        "    fmt = f.rsplit('.', 1)[-1].lower()\n",
        "    if fmt == 'jpg':\n",
        "      fmt = 'jpeg'\n",
        "    f = open(f, 'wb')\n",
        "  np2pil(a).save(f, fmt, quality=95)\n",
        "\n",
        "def imencode(a, fmt='jpeg'):\n",
        "  a = np.asarray(a)\n",
        "  if len(a.shape) == 3 and a.shape[-1] == 4:\n",
        "    fmt = 'png'\n",
        "  f = io.BytesIO()\n",
        "  imwrite(f, a, fmt)\n",
        "  return f.getvalue()\n",
        "\n",
        "def imshow(a, fmt='jpeg', display=display):\n",
        "  return display(Image(data=imencode(a, fmt)))\n",
        "\n",
        "def grab_plot(close=True):\n",
        "  \"\"\"Return the current Matplotlib figure as an image\"\"\"\n",
        "  fig = pl.gcf()\n",
        "  fig.canvas.draw()\n",
        "  img = np.array(fig.canvas.renderer._renderer)\n",
        "  a = np.float32(img[..., 3:]/255.0)\n",
        "  img = np.uint8(255*(1.0-a) + img[...,:3] * a)  # alpha\n",
        "  if close:\n",
        "    pl.close()\n",
        "  return img\n",
        "\n",
        "def show_videofile(fn):\n",
        "  b64 = base64.b64encode(open(fn, 'rb').read()).decode('utf8')\n",
        "  s = f'''<video controls loop>\n",
        " <source src=\"data:video/mp4;base64,{b64}\" type=\"video/mp4\">\n",
        " Your browser does not support the video tag.</video>'''\n",
        "  display(HTML(s))\n",
        "\n",
        "class VideoWriter:\n",
        "  def __init__(self, filename='_tmp.mp4', fps=30.0, show_on_finish=True):\n",
        "    self.ffmpeg = None\n",
        "    self.filename = filename\n",
        "    self.fps = fps\n",
        "    self.view = widgets.Output()\n",
        "    self.last_preview_time = 0.0\n",
        "    self.frame_count = 0\n",
        "    self.show_on_finish = show_on_finish\n",
        "    display(self.view)\n",
        "\n",
        "  def add(self, img):\n",
        "    img = np.asarray(img)\n",
        "    h, w = img.shape[:2]\n",
        "    if self.ffmpeg is None:\n",
        "      self.ffmpeg = self._open(w, h)\n",
        "    if img.dtype in [np.float32, np.float64]:\n",
        "      img = np.uint8(img.clip(0, 1)*255)\n",
        "    if len(img.shape) == 2:\n",
        "      img = np.repeat(img[..., None], 3, -1)\n",
        "    self.ffmpeg.stdin.write(img.tobytes())\n",
        "    t = time.time()\n",
        "    self.frame_count += 1\n",
        "    if self.view and t-self.last_preview_time > 1.0:\n",
        "       self.last_preview_time = t\n",
        "       with self.view:\n",
        "         clear_output(wait=True)\n",
        "         imshow(img)\n",
        "         print(self.frame_count)\n",
        "\n",
        "  def __call__(self, img):\n",
        "    return self.add(img)\n",
        "\n",
        "  def _open(self, w, h):\n",
        "    cmd = f'''ffmpeg -y -f rawvideo -vcodec rawvideo -s {w}x{h}\n",
        "      -pix_fmt rgb24 -r {self.fps} -i - -pix_fmt yuv420p\n",
        "      -c:v libx264 -crf 20 {self.filename}'''.split()\n",
        "    return subprocess.Popen(cmd, stdin=subprocess.PIPE, stderr=subprocess.PIPE)\n",
        "\n",
        "  def close(self):\n",
        "    if self.ffmpeg:\n",
        "        self.ffmpeg.stdin.close()\n",
        "        self.ffmpeg.wait()\n",
        "        self.ffmpeg = None\n",
        "    if self.view:\n",
        "      with self.view:\n",
        "        clear_output()\n",
        "      self.view.close()\n",
        "      self.view = None\n",
        "\n",
        "  def __enter__(self):\n",
        "    return self\n",
        "\n",
        "  def __exit__(self, *kw):\n",
        "    self.close()\n",
        "    if self.show_on_finish:\n",
        "        self.show()\n",
        "\n",
        "  def _ipython_display_(self):\n",
        "    self.show()\n",
        "\n",
        "  def show(self):\n",
        "      self.close()\n",
        "      show_videofile(self.filename)\n",
        "\n",
        "# JAX utils\n",
        "\n",
        "def vmap2(f):\n",
        "  return jax.vmap(jax.vmap(f))\n",
        "\n",
        "def norm(v, axis=-1, keepdims=False, eps=0.0):\n",
        "  return jp.sqrt((v*v).sum(axis, keepdims=keepdims).clip(eps))\n",
        "\n",
        "def normalize(v, axis=-1, eps=1e-20):\n",
        "  return v/norm(v, axis, keepdims=True, eps=eps)\n",
        "\n",
        "\n",
        "pl.rcParams.update({\"axes.grid\" : True})"
      ]
    },
    {
      "cell_type": "code",
      "source": [],
      "metadata": {
        "id": "ZdUxfoDb6dHY"
      },
      "execution_count": null,
      "outputs": []
    },
    {
      "cell_type": "markdown",
      "metadata": {
        "id": "M8M0K21et4Cn"
      },
      "source": [
        "# Particle Lenia and the energy-based formulation\n",
        "\n",
        "Authors | Affiliation | Published\n",
        "--------|-------------|----------\n",
        "[Alexander Mordvintsev](https://znah.net) | [Google](https://ai.google/) | December 23, 2022\n",
        "[Eyvind Niklasson](https://eyvind.me/) | |\n",
        "[Ettore Randazzo](https://oteret.github.io/) | | <a href=\"https://colab.research.google.com/github/google-research/self-organising-systems/blob/master/notebooks/particle_lenia.ipynb\" target=\"_blank\" id=\"colablink\" class=\"colab-root\"><span id=\"reprotext\">Reproduce in </span><span class=\"colab-span\">Notebook</span></a><a id=\"arxiv\" title=\"ETA Q1 2023\" href=\"about:blank\" target=\"_blank\" class=\"colab-root\"><span class=\"arxiv-span\"></span></a>"
      ]
    },
    {
      "cell_type": "code",
      "execution_count": null,
      "metadata": {
        "cellView": "form",
        "id": "uTsKECbgrgSm"
      },
      "outputs": [],
      "source": [
        "#@title (intro video)\n",
        "from IPython.display import YouTubeVideo\n",
        "YouTubeVideo('AP3zeHyWakw', width=800, height=450)"
      ]
    },
    {
      "cell_type": "markdown",
      "metadata": {
        "id": "WzAa6DvygHub"
      },
      "source": [
        "<p id=\"pdemo\">\n",
        "<a id=\"demo\" href=\"https://znah.net/lenia\" target=\"_blank\" class=\"colab-root\">DEMO 🔬👾</a><br><br>\n",
        "</p>"
      ]
    },
    {
      "cell_type": "markdown",
      "metadata": {
        "id": "HboNHEwsa9Hn"
      },
      "source": [
        "[TOC]\n",
        "\n",
        "## Introduction\n",
        "\n",
        "Patterns and behaviors you see in the video above were produced by the artificial life system that we called “Particle Lenia”. It’s inspired by [Lenia Mathematical Lifeforms](https://chakazul.github.io/lenia.html), which in turn is a continuous generalization of John Conway's [Game of Life](https://en.wikipedia.org/wiki/Conway%27s_Game_of_Life). In this article we are going to describe the motivation, implementation and behavior of Particle Lenia.\n",
        "\n",
        "Before diving into the details of the proposed model, we would like to speculate a little about why to create such models. Physics, chemistry and biology study the organization of matter at various scales, from subatomic to cosmic. The behavior of each scale is determined by the laws that govern behavior of the underlying scale, but the nature of relations between scales is full of surprises. For example let’s consider a simple idea: matter consists of tiny, constantly moving particles, which attract each other at close distances, but repel when they are too close. [Lennard-Jones potential](https://en.wikipedia.org/wiki/Lennard-Jones_potential) is one of possible mathematical formalizations of the above idea. In spite of the apparent simplicity of microscopic dynamics, at large scales these rules give rise to a plethora of complex phenomena, such as aggregate states of matter, thermodynamics, acoustics, hydrodynamics and turbulence. In scientific and engineering practice we can often abstract microscopic details behind macroscopic models, such as diffusion or Navier-Stokes equations, that operate at the scale of interest. But in some domains, like material science or biochemistry, we have to focus on the relationship between many orders of magnitude in scale. How do changes in molecular structure reflect in macroscopic material properties? How do genomic sequences translate into morphological appearance? In the field of biology these ties between scales are especially important and obscure at the same time. That’s why development of practical methods of capturing and analyzing such relations are of a great need. *In silico* multi-agent models provide a computational playground for creation and improvement of such methods. We may use such models for efficient design of local microscopic rules that lead to a desired global behavior. Thus, creation of simulated Artificial Life serves as a stepping stone in deep understanding of life in the real world.\n",
        "\n",
        "[Game of Life](https://en.wikipedia.org/wiki/Conway%27s_Game_of_Life) cellular automata captivated the attention of a few generations of researchers and hobbyists with a diversity of complex behaviors stemming from a very simple set of local rules. A few continuous generalizations were proposed, [SmoothLife](https://www.youtube.com/watch?v=8wDSQxmAyTw) and [Lenia](https://chakazul.github.io/lenia.html) are most popular among them. They describe evolution of one or a few scalar fields with a system of PDEs. Such models can support a great diversity of interesting and beautiful life-like behaviors. Yet we argue that PDE-based models have a couple of drawbacks, which motivated the creation of the particle based analogy."
      ]
    },
    {
      "cell_type": "code",
      "execution_count": null,
      "metadata": {
        "cellView": "form",
        "id": "iPELJ_a250xd"
      },
      "outputs": [],
      "source": [
        "#@title (OG Lenia creatures diagram)\n",
        "# based on Bert Chan's original Lenia implementation\n",
        "# https://colab.research.google.com/github/Chakazul/Lenia/blob/master/Jupyter/Lenia.ipynb\n",
        "\n",
        "class Lenia(namedtuple('Lenia', 'R, peaks, mu, sigma')):\n",
        "  def rescale(p, x, n=4):\n",
        "    x = jp.repeat(jp.repeat(jp.array(x), n, axis=0), n, axis=1)\n",
        "    p = p._replace(R = p.R * n)\n",
        "    return p, x\n",
        "\n",
        "  def kernel_shell(p, r):\n",
        "    def kernel_core(r):\n",
        "      rm = jp.minimum(r, 1)\n",
        "      return (4 * rm * (1-rm))**4\n",
        "    k = len(p.peaks)\n",
        "    kr = k * r\n",
        "    peak = p.peaks[jp.minimum(jp.floor(kr).astype(int), k-1)]\n",
        "    return (r<1) * kernel_core(kr % 1) * peak\n",
        "\n",
        "  @jax.jit\n",
        "  def step(p, x, dt=0.05):\n",
        "    SIZE = x.shape[0]\n",
        "    MID = SIZE // 2\n",
        "    I = jp.array([jp.arange(SIZE),]*SIZE)\n",
        "    X = (I-MID) / p.R\n",
        "    Y = X.T\n",
        "    D = jp.sqrt(X**2 + Y**2)\n",
        "\n",
        "    kernel = p.kernel_shell(D)\n",
        "    kernel_FFT = jp.fft.fft2(kernel / jp.sum(kernel))\n",
        "    x_FFT = jp.fft.fft2(x)\n",
        "    potential = jp.roll(jp.real(jp.fft.ifft2(kernel_FFT * x_FFT)), MID, (0, 1))\n",
        "    delta = jp.maximum(0, 1 - (potential - p.mu)**2 / (p.sigma**2 * 9) )**4 * 2 - 1\n",
        "    return jp.maximum(0, jp.minimum(1, x + delta * dt))\n",
        "\n",
        "  @staticmethod\n",
        "  def render_world(x, vmin=0, vmax=1, title_1='', title_2='', sep_x=None, alpha_1 = 1.0, alpha_2 = 1.0):\n",
        "    SIZE = x.shape[0]\n",
        "    if sep_x is None:\n",
        "      sep_x = SIZE\n",
        "    fig = pl.figure(figsize=(jp.shape(x)[1]/80, jp.shape(x)[0]/80), dpi=80)\n",
        "    ax = fig.add_axes([0, 0, 1, 1])\n",
        "    ax.grid(False)\n",
        "    ax.text(sep_x//2, SIZE - 40, title_1, fontsize='xx-large', color='white', ha='center', va='center', alpha = alpha_1)\n",
        "    ax.text(SIZE + sep_x//2, SIZE - 40, title_2, fontsize='xx-large', color='white', ha='center', va='center', alpha = alpha_2)\n",
        "    ax.axvline(x=sep_x, linestyle='--', linewidth=4)\n",
        "    img = ax.imshow(x, cmap='jet', interpolation='none', aspect=1, vmin=vmin, vmax=vmax)\n",
        "    return grab_plot()\n",
        "\n",
        "  @staticmethod\n",
        "  def get_creatures():\n",
        "    p1 = Lenia(R=13, peaks=jp.array([1]), mu=0.15, sigma=0.014)\n",
        "    p2 = Lenia(R=13, peaks=jp.array([1]), mu=0.156, sigma=0.0224)\n",
        "    c1 = jp.array([[0,0,0,0,0,0,0.1,0.14,0.1,0,0,0.03,0.03,0,0,0.3,0,0,0,0],[0,0,0,0,0,0.08,0.24,0.3,0.3,0.18,0.14,0.15,0.16,0.15,0.09,0.2,0,0,0,0],[0,0,0,0,0,0.15,0.34,0.44,0.46,0.38,0.18,0.14,0.11,0.13,0.19,0.18,0.45,0,0,0],[0,0,0,0,0.06,0.13,0.39,0.5,0.5,0.37,0.06,0,0,0,0.02,0.16,0.68,0,0,0],[0,0,0,0.11,0.17,0.17,0.33,0.4,0.38,0.28,0.14,0,0,0,0,0,0.18,0.42,0,0],[0,0,0.09,0.18,0.13,0.06,0.08,0.26,0.32,0.32,0.27,0,0,0,0,0,0,0.82,0,0],[0.27,0,0.16,0.12,0,0,0,0.25,0.38,0.44,0.45,0.34,0,0,0,0,0,0.22,0.17,0],[0,0.07,0.2,0.02,0,0,0,0.31,0.48,0.57,0.6,0.57,0,0,0,0,0,0,0.49,0],[0,0.59,0.19,0,0,0,0,0.2,0.57,0.69,0.76,0.76,0.49,0,0,0,0,0,0.36,0],[0,0.58,0.19,0,0,0,0,0,0.67,0.83,0.9,0.92,0.87,0.12,0,0,0,0,0.22,0.07],[0,0,0.46,0,0,0,0,0,0.7,0.93,1,1,1,0.61,0,0,0,0,0.18,0.11],[0,0,0.82,0,0,0,0,0,0.47,1,1,0.98,1,0.96,0.27,0,0,0,0.19,0.1],[0,0,0.46,0,0,0,0,0,0.25,1,1,0.84,0.92,0.97,0.54,0.14,0.04,0.1,0.21,0.05],[0,0,0,0.4,0,0,0,0,0.09,0.8,1,0.82,0.8,0.85,0.63,0.31,0.18,0.19,0.2,0.01],[0,0,0,0.36,0.1,0,0,0,0.05,0.54,0.86,0.79,0.74,0.72,0.6,0.39,0.28,0.24,0.13,0],[0,0,0,0.01,0.3,0.07,0,0,0.08,0.36,0.64,0.7,0.64,0.6,0.51,0.39,0.29,0.19,0.04,0],[0,0,0,0,0.1,0.24,0.14,0.1,0.15,0.29,0.45,0.53,0.52,0.46,0.4,0.31,0.21,0.08,0,0],[0,0,0,0,0,0.08,0.21,0.21,0.22,0.29,0.36,0.39,0.37,0.33,0.26,0.18,0.09,0,0,0],[0,0,0,0,0,0,0.03,0.13,0.19,0.22,0.24,0.24,0.23,0.18,0.13,0.05,0,0,0,0],[0,0,0,0,0,0,0,0,0.02,0.06,0.08,0.09,0.07,0.05,0.01,0,0,0,0,0]])\n",
        "    c2 = jp.array([[0,0,0,0,0,0,0,0,0.003978,0.016492,0.004714,0,0,0,0,0,0,0,0,0],[0,0,0,0,0,0.045386,0.351517,0.417829,0.367137,0.37766,0.426948,0.431058,0.282864,0.081247,0,0,0,0,0,0],[0,0,0,0,0.325473,0.450995,0.121737,0,0,0,0.003113,0.224278,0.47101,0.456459,0.247231,0.071609,0.013126,0,0,0],[0,0,0,0.386337,0.454077,0,0,0,0,0,0,0,0.27848,0.524466,0.464281,0.242651,0.096721,0.038476,0,0],[0,0,0.258817,0.583802,0.150994,0,0,0,0,0,0,0,0.226639,0.548329,0.550422,0.334764,0.153108,0.087049,0.042872,0],[0,0.008021,0.502406,0.524042,0.059531,0,0,0,0,0,0,0.033946,0.378866,0.615467,0.577527,0.357306,0.152872,0.090425,0.058275,0.023345],[0,0.179756,0.596317,0.533619,0.162612,0,0,0,0,0.015021,0.107673,0.325125,0.594765,0.682434,0.594688,0.381172,0.152078,0.073544,0.054424,0.030592],[0,0.266078,0.614339,0.605474,0.379255,0.195176,0.16516,0.179148,0.204498,0.299535,0.760743,1,1,1,1,0.490799,0.237826,0.069989,0.043549,0.022165],[0,0.333031,0.64057,0.686886,0.60698,0.509866,0.450525,0.389552,0.434978,0.859115,0.94097,1,1,1,1,1,0.747866,0.118317,0.037712,0.006271],[0,0.417887,0.6856,0.805342,0.824229,0.771553,0.69251,0.614328,0.651704,0.843665,0.910114,1,1,0.81765,0.703404,0.858469,1,0.613961,0.035691,0],[0.04674,0.526827,0.787644,0.895984,0.734214,0.661746,0.670024,0.646184,0.69904,0.723163,0.682438,0.618645,0.589858,0.374017,0.30658,0.404027,0.746403,0.852551,0.031459,0],[0.130727,0.658494,0.899652,0.508352,0.065875,0.009245,0.232702,0.419661,0.461988,0.470213,0.390198,0.007773,0,0.010182,0.080666,0.17231,0.44588,0.819878,0.034815,0],[0.198532,0.810417,0.63725,0.031385,0,0,0,0,0.315842,0.319248,0.321024,0,0,0,0,0.021482,0.27315,0.747039,0,0],[0.217619,0.968727,0.104843,0,0,0,0,0,0.152033,0.158413,0.114036,0,0,0,0,0,0.224751,0.647423,0,0],[0.138866,1,0.093672,0,0,0,0,0,0.000052,0.015966,0,0,0,0,0,0,0.281471,0.455713,0,0],[0,1,0.145606,0.005319,0,0,0,0,0,0,0,0,0,0,0,0.016878,0.381439,0.173336,0,0],[0,0.97421,0.262735,0.096478,0,0,0,0,0,0,0,0,0,0,0.013827,0.217967,0.287352,0,0,0],[0,0.593133,0.2981,0.251901,0.167326,0.088798,0.041468,0.013086,0.002207,0.009404,0.032743,0.061718,0.102995,0.1595,0.24721,0.233961,0.002389,0,0,0],[0,0,0.610166,0.15545,0.200204,0.228209,0.241863,0.243451,0.270572,0.446258,0.376504,0.174319,0.154149,0.12061,0.074709,0,0,0,0,0],[0,0,0.354313,0.32245,0,0,0,0.151173,0.479517,0.650744,0.392183,0,0,0,0,0,0,0,0,0],[0,0,0,0.329339,0.328926,0.176186,0.198788,0.335721,0.534118,0.549606,0.361315,0,0,0,0,0,0,0,0,0],[0,0,0,0,0.090407,0.217992,0.190592,0.174636,0.222482,0.375871,0.265924,0,0,0,0,0,0,0,0,0],[0,0,0,0,0,0,0,0,0,0.050256,0.235176,0,0,0,0,0,0,0,0,0],[0,0,0,0,0,0,0,0,0,0,0,0.180145,0.132616,0,0,0,0,0,0,0],[0,0,0,0,0,0,0,0,0,0,0,0,0,0.092581,0.188519,0.118256,0,0,0,0]])\n",
        "    p1, c1 = p1.rescale(c1, n=6)\n",
        "    p2, c2 = p2.rescale(c2, n=6)\n",
        "    return (p1, c1), (p2, c2)\n",
        "\n",
        "def lenia_universes_diagram(SIZE=1<<8):\n",
        "  (p1, c1), (p2, c2) = Lenia.get_creatures()\n",
        "  MID = int(SIZE / 2)\n",
        "  titles = dict(title_1=\"Glider's World\\n$\\mu=0.15, \\sigma=0.014$\",\n",
        "                title_2=\"Rotator's World\\n$\\mu=0.156, \\sigma=0.0224$\")\n",
        "\n",
        "  x_1 = x_2 = jp.zeros((SIZE, SIZE))\n",
        "\n",
        "  def center(x):\n",
        "    CoM = ((jp.mgrid[0:SIZE:1, 0:SIZE:1] * x).sum(axis=(1,2))/jp.sum(x)).astype(jp.int32)\n",
        "    shift = jp.array([SIZE//2, SIZE//2]) - CoM\n",
        "    return jp.roll(x, shift, axis=(0, 1))\n",
        "\n",
        "  # paste creature 1\n",
        "  cs = c1.shape\n",
        "  x_1 = x_1.at[SIZE//2:SIZE//2 + cs[0], SIZE//2 - cs[1]:SIZE//2].set(c1)\n",
        "  x_1 = center(x_1)\n",
        "\n",
        "  # paste creature 2\n",
        "  cs = c2.shape\n",
        "  x_2 = x_2.at[(SIZE - cs[0])//2:(SIZE + cs[0])//2, (SIZE - cs[1])//2:(SIZE + cs[1])//2].set(c2)\n",
        "\n",
        "  with VideoWriter(fps=15) as vid:\n",
        "    for i in range(100):\n",
        "      x = jp.concatenate((x_1, x_2), axis=1)\n",
        "      vid(Lenia.render_world(x, **titles))\n",
        "      for _ in range(2):\n",
        "        x_1 = center(p1.step(x_1))\n",
        "        x_2 = p2.step(x_2)\n",
        "    for i in range(60):\n",
        "      # move seperator\n",
        "      scale = 1 - i/60\n",
        "      vid(Lenia.render_world(x, sep_x=SIZE*scale, alpha_1=2.5*max(scale-0.6, 0), **titles))\n",
        "    for i in range(100):\n",
        "      x = jp.concatenate((x_1, x_2), axis=1)\n",
        "      vid(Lenia.render_world(x, sep_x=0, alpha_1=0.0, **titles))\n",
        "      for _ in range(2):\n",
        "        x_1 = center(p2.step(x_1))\n",
        "        x_2 = p2.step(x_2)\n",
        "    for i in range(60):\n",
        "      # move seperator\n",
        "      scale = i/60\n",
        "      vid(Lenia.render_world(x, sep_x=SIZE*2*scale, alpha_1=2*max(scale-0.5, 0), alpha_2=2*max(0.5-scale, 0)))\n",
        "    for i in range(100):\n",
        "      x = jp.concatenate((x_1, x_2), axis=1)\n",
        "      vid(Lenia.render_world(x, sep_x=2*SIZE, alpha_2=0.0, **titles))\n",
        "      for _ in range(2):\n",
        "        x_1 = center(p1.step(x_1))\n",
        "        x_2 = p1.step(x_2)\n",
        "lenia_universes_diagram()"
      ]
    },
    {
      "cell_type": "markdown",
      "metadata": {
        "id": "aWE3qxs-8C5C"
      },
      "source": [
        "<div style=\"text-align: center;\">“Orbium bicaudatus” (Glider) would never meet “Gyrorbium gyrans” (Rotator), because they exist in universes with different laws of physics</div>"
      ]
    },
    {
      "cell_type": "markdown",
      "metadata": {
        "id": "nomcazsTcaLG"
      },
      "source": [
        "First, SmoothLife and Lenia “creatures” are compact persistent patterns that are defined by both spatial configuration of the field (“morphology”), and parameters of the PDE system that governs its evolution (“laws of physics”). Thus, two creatures can coexist in the same universe only when they are supported by the same set of parameters. Otherwise, some mechanism is required that would modify local simulation rules depending on the spatial field configuration."
      ]
    },
    {
      "cell_type": "code",
      "execution_count": null,
      "metadata": {
        "cellView": "form",
        "id": "xyP9hEwP8xqp"
      },
      "outputs": [],
      "source": [
        "#@title (OG Lenia mass)\n",
        "def lenia_mass_diagram(SIZE=1<<8):\n",
        "  c = (jax.random.uniform(jax.random.PRNGKey(0x1337), (SIZE//16, SIZE//16))).astype(jp.float32) * 1.8\n",
        "  (p1, _), (p2, _) = Lenia.get_creatures()\n",
        "  _, c = p1.rescale(c, n=4)\n",
        "  x = jp.zeros((SIZE, SIZE))\n",
        "  coords = (0, c.shape[0])\n",
        "  x = x.at[coords[0]:coords[1], coords[0]:coords[1]].set(c)\n",
        "\n",
        "  mass_log = []\n",
        "  with VideoWriter(fps=15) as vid:\n",
        "    for i in range(120):\n",
        "      out = Lenia.render_world(x, title_1=None, title_2=None)\n",
        "      for i in range(2):\n",
        "        x = p2.step(x)\n",
        "      mass_log.append(jp.sum(x)/1000)\n",
        "      pl.figure(figsize=(SIZE/100, SIZE/100), dpi=100)\n",
        "      pl.gcf().subplots_adjust(bottom=0.2, left=0.25, top=0.95, right=0.95)\n",
        "      pl.plot(mass_log)\n",
        "      pl.grid(False)\n",
        "      pl.xlabel(\"step\")\n",
        "      pl.ylabel(\"total mass\")\n",
        "      pl.ylim(0, 15)\n",
        "      pl_img = grab_plot()\n",
        "      vid(jp.concatenate((out, pl_img), axis=1))\n",
        "lenia_mass_diagram()"
      ]
    },
    {
      "cell_type": "markdown",
      "metadata": {
        "id": "GhRV7N9JUAz3"
      },
      "source": [
        "<div style=\"text-align: center;\">Lack of mass conservation in Lenia often leads to infinite growth</div>"
      ]
    },
    {
      "cell_type": "markdown",
      "metadata": {
        "id": "tqRJN_icciMj"
      },
      "source": [
        "Second, in their original formulation neither SmoothLife nor Lenia have any conservation laws, which leads to often observed explosive growth or extinction behaviors.\n",
        "\n",
        "Recently proposed [Flow Lenia](https://arxiv.org/abs/2212.07906) model tries to work around these issues by formulating the PDE system around a flow field that moves the distribution of “matter” in space without creation of a new mass. Authors also propose a method of combining multiple update rules in the same space. Particle Lenia can be seen as another perspective on the Flow Lenia model: we represent moving matter as a population of particles, rather than a scalar field (see [Lagrangian flow vs. Eulerian](https://en.wikipedia.org/wiki/Lagrangian_and_Eulerian_specification_of_the_flow_field)).\n"
      ]
    },
    {
      "cell_type": "markdown",
      "metadata": {
        "id": "ttWI0FCYcuBb"
      },
      "source": [
        "We think that particle based representation has a number of attractive properties:\n",
        "\n",
        "* Mass conservation simply follows from the constant number of particles. Grid-based methods need to take special measures to accurately redistribute mass between grid cells.\n",
        "\n",
        "* Combining multiple different update rules is possible by attaching them to individual particles (note that we mostly focus on single particle-type models in this article, as we find their behavior sufficiently interesting).\n",
        "\n",
        "* Particle based simulation is easy to implement and scales well when switching from 2D to 3D space.\n",
        "\n",
        "There are quite a few known particle-based artificial life simulations, including the classic [Boids](https://en.wikipedia.org/wiki/Boids), [Primordial Particle Systems](https://www.nature.com/articles/srep37969) and many others. We think that the main contribution of this work is to provide a link between the popular Lenia model and particle systems. The proposed artificial life model demonstrates a large diversity of interesting and even beautiful behaviors, even in the case when all particles share the same parameters. We also examine the model dynamics through the lens of a greedy local energy minimization process, and compare the behavior of the model to that of running with an equivalent global energy minimization routine. We find that the difference in behavior between these paradigms is non-intuitive and may have significance for the design of future systems of optimized interacting agents.\n"
      ]
    },
    {
      "cell_type": "markdown",
      "metadata": {
        "id": "x9OkOx0liJJQ"
      },
      "source": [
        "## Particles and Fields\n",
        "\n",
        "Many classic physics models describe particles that interact through fields they induce. Canonical examples are point charges and electrostatic field, point masses and gravity, or aforementioned [Lennard-Jones](https://en.wikipedia.org/wiki/Lennard-Jones_potential) particles. Particle positions define the configuration of the potential field, and the field affects the motion of particles, which accelerate towards the gradient of the potential field. Particle Lenia follows the same principle. In this section we are going to develop and implement Particle Lenia step by step, while contrasting it against the original Lenia model.\n",
        "\n",
        "Lenia is a PDE system that describes the evolution of the scalar field $\\mathbf{A}$:\n",
        "\n",
        "$$\\mathbf{A}^{t+\\Delta t} = \\left[\n",
        " \\mathbf{A}^{t} + \\Delta t \\;G \\big(\\mathbf{K}*\\mathbf{A}^t\\big)\n",
        " \\right]_0^1$$\n",
        "\n",
        "The behavior of the system is defined by the initial state of the field $\\mathbf{A}^0$, the scalar *growth mapping* $G$ and the convolution kernel $\\mathbf{K}$. The field $\\mathbf{U}^t=\\mathbf{K}*\\mathbf{A}^t$ is referred to as the *potential distribution* in the original Lenia paper, and $\\mathbf{G}^t=G \\big(\\mathbf{U}^t\\big)$ is called the *growth distribution*. In this work we are going to use a different naming convention to avoid confusion in the discussion about energy-based interpretation that will follow later. We are going to call $\\mathbf{G}^t$ — *growth field* and $\\mathbf{U}^t$ — *Lenia field*.\n",
        "\n",
        "**Lenia field.** Particle Lenia is an ODE system in which the scalar field $\\mathbf{A}$ is replaced by a population of particles, characterized by their location vectors $\\mathbf{p}_i^t$. We can still compute the value of the continuous field $\\mathbf{U}^t$ at any point $\\mathbf{x}$ by treating each particle as a [unit impulse](https://en.wikipedia.org/wiki/Dirac_delta_function) and adding contributions of individual particles:\n",
        "\n",
        "$$\\mathbf{U}^t(\\mathbf{x}) = \\sum_i \\mathbf{K}(\\mathbf{x}-\\mathbf{p}_i^t) = \\sum_i K\\big(\\Vert\\mathbf{x}-\\mathbf{p}_i^t\\Vert\\big)$$\n",
        "\n",
        "$$K(r) = w_K\\exp\\big({-(r-\\mu_K)^2 \\big/ \\sigma_K^2}\\big)$$\n",
        "\n",
        "As in Lenia, we choose $\\mathbf{K}$ to be radially symmetrical, depending only on the distance from the particle. This symmetry makes the model rotationally equivariant. In this work we use the simplest Lenia kernel, that consists of a single circular (2d) or spherical (3d) shell. The coefficient $w_K$ is selected in such a way that the integral of $\\mathbf{K}$ over the whole space equals one."
      ]
    },
    {
      "cell_type": "markdown",
      "metadata": {
        "id": "ypCECyKPWN0z"
      },
      "source": [
        "**Growth field.** Knowing $\\mathbf{U}^t$ we can compute $\\mathbf{G}^t=G \\big(\\mathbf{U}^t\\big)$. Like in Lenia, $G$ is a single gaussian peak that \"selects\" soft range of $\\mathbf{U}^t$ values where growth is happening, or in our case, particles are attracted. Originally $G$ had values in $[-1,1]$ range, but in our case, as we show later, only its derivative matters, so additional scaling isn't needed:\n",
        "\n",
        "$$G(u) = \\exp\\big({-(u-\\mu_G)^2 \\big/ \\sigma_G^2}\\big)$$\n",
        "\n",
        "**Repulsion field.** Lenia explicitly bounds values of $\\mathbf{A}$ to stay in $[0, 1]$ range. We decided to implement something analogous to this. The lower boundary is trivial because there can't be less than zero particles in any area. We added a repulsion force between particles to limit the maximum particle concentration. The magnitude of force that repels two particles $i \\neq j$ is $f_{ij} = f_{ji}= c_\\text{rep}\\max(1-\\Vert\\mathbf{p}_i-\\mathbf{p}_j\\Vert, 0)$, where $c_\\text{rep}$ controls the repulsion strength. We can also represent this force with a *repulsion potential field* $\\mathbf{R}^t$:\n",
        "\n",
        "$$\\mathbf{R}^t(\\mathbf{x}) = \\frac{c_\\text{rep}}{2}\\sum_{i: \\mathbf{p}_i \\neq \\mathbf{x}} \\max\\big(1-\\Vert \\mathbf{x} - \\mathbf{p}_i\\Vert,\\; 0\\big)^2$$\n",
        "\n",
        "The gradient of this field equals to the sum of repulsion forces acting on a particular point in space."
      ]
    },
    {
      "cell_type": "markdown",
      "metadata": {
        "id": "lCAA4oTKqmk-"
      },
      "source": [
        "**Motion law.** Particles in our model move against the local gradient of the *energy field* $\\mathbf{E}=\\mathbf{R}-\\mathbf{G}$. In the language of ODEs it can be simply formulated as:\n",
        "\n",
        "$$ \\frac{d\\mathbf{p}_i}{dt} = -∇\\mathbf{E}(\\mathbf{p}_i) = -\\left[ \\frac{∂\\mathbf{E}(\\mathbf{p}_i)}{∂\\mathbf{p}_i} \\right]^\\top $$\n",
        "\n",
        "Particles are trying to minimize repulsion energy $\\mathbf{R}$, while seeking for areas with high values for $\\mathbf{G}$. Note that they don't have momentum and directly follow in the direction of the applied force. We are trying to get the dynamics similar to the behavior of microscopic organisms in water, where kinetic energy dissipates almost immediately if force not applied.\n",
        "\n",
        "Let's express the formulas above with JAX code:"
      ]
    },
    {
      "cell_type": "code",
      "execution_count": null,
      "metadata": {
        "id": "_hy_Pi8W2ov3"
      },
      "outputs": [],
      "source": [
        "Params = namedtuple('Params', 'mu_k sigma_k w_k mu_g sigma_g c_rep')\n",
        "Fields = namedtuple('Fields', 'U G R E')\n",
        "\n",
        "def peak_f(x, mu, sigma):\n",
        "  return jp.exp(-((x-mu)/sigma)**2)\n",
        "\n",
        "def fields_f(p: Params, points, x):\n",
        "  r = jp.sqrt(jp.square(x-points).sum(-1).clip(1e-10))\n",
        "  U = peak_f(r, p.mu_k, p.sigma_k).sum()*p.w_k\n",
        "  G = peak_f(U, p.mu_g, p.sigma_g)\n",
        "  R = p.c_rep/2 * ((1.0-r).clip(0.0)**2).sum()\n",
        "  return Fields(U, G, R, E=R-G)\n",
        "\n",
        "def motion_f(params, points):\n",
        "  grad_E = jax.grad(lambda x : fields_f(params, points, x).E)\n",
        "  return -jax.vmap(grad_E)(points)"
      ]
    },
    {
      "cell_type": "markdown",
      "metadata": {
        "id": "udVKdVQMTCTX"
      },
      "source": [
        "**That's it.** `fields_f` function, given the system parameters and positions of particles, computes values of all fields described earlier at the point `x`. `motion_f` combines `grad` and `vmap` to compute velocities of all points at a given system state.\n",
        "\n",
        "Now we can simply pick some parameter values, sample random points and apply and ODE integrator (even Euler would work):"
      ]
    },
    {
      "cell_type": "code",
      "execution_count": null,
      "metadata": {
        "cellView": "form",
        "id": "ew1PJOLVTX1R"
      },
      "outputs": [],
      "source": [
        "#@title (show_lenia)\n",
        "import PIL.ImageFont, PIL.ImageDraw\n",
        "\n",
        "def lerp(x, a, b):\n",
        "  return jp.float32(a)*(1.0-x) + jp.float32(b)*x\n",
        "def cmap_e(e):\n",
        "  return 1.0-jp.stack([e, -e], -1).clip(0) @ jp.float32([[0.3,1,1], [1,0.3,1]])\n",
        "def cmap_ug(u, g):\n",
        "  vis = lerp(u[...,None], [0.1,0.1,0.3], [0.2,0.7,1.0])\n",
        "  return lerp(g[...,None], vis, [1.17,0.91,0.13])\n",
        "\n",
        "@partial(jax.jit, static_argnames=['w', 'show_UG', 'show_cmap'])\n",
        "def show_lenia(params, points, extent, w=400, show_UG=False, show_cmap=True):\n",
        "  xy = jp.mgrid[-1:1:w*1j, -1:1:w*1j].T*extent\n",
        "  e0 = -peak_f(0.0, params.mu_g, params.sigma_g)\n",
        "  f = partial(fields_f, params, points)\n",
        "  fields = vmap2(f)(xy)\n",
        "  r2 = jp.square(xy[...,None,:]-points).sum(-1).min(-1)\n",
        "  points_mask = (r2/0.02).clip(0, 1.0)[...,None]\n",
        "  vis = cmap_e(fields.E-e0) * points_mask\n",
        "  if show_cmap:\n",
        "    e_mean = jax.vmap(f)(points).E.mean()\n",
        "    bar = np.r_[0.5:-0.5:w*1j]\n",
        "    bar = cmap_e(bar) * (1.0-peak_f(bar, e_mean-e0, 0.005)[:,None])\n",
        "    vis = jp.hstack([vis, bar[:,None].repeat(16, 1)])\n",
        "  if show_UG:\n",
        "    vis_u = cmap_ug(fields.U, fields.G)*points_mask\n",
        "    if show_cmap:\n",
        "      u = np.r_[1:0:w*1j]\n",
        "      bar = cmap_ug(u, peak_f(u, params.mu_g, params.sigma_g))\n",
        "      bar = bar[:,None].repeat(16, 1)\n",
        "      vis_u = jp.hstack([bar, vis_u])\n",
        "    vis = jp.hstack([vis_u, vis])\n",
        "  return vis\n",
        "\n",
        "fontpath = pl.matplotlib.get_data_path()+'/fonts/ttf/DejaVuSansMono.ttf'\n",
        "pil_font = PIL.ImageFont.truetype(fontpath, size=16)\n",
        "\n",
        "def text_overlay(img, text, pos=(20,10), color=(255,255,255)):\n",
        "  img = np2pil(img)\n",
        "  draw = PIL.ImageDraw.Draw(img)\n",
        "  draw.text(pos, text, fill=color, font=pil_font)\n",
        "  return img\n",
        "\n",
        "def animate_lenia(params, tracks, rate=10, slow_start=0, w=400, show_UG=True,\n",
        "                  name='_tmp.mp4', text=None, vid=None, bar_len=None,\n",
        "                  bar_ofs=0, extent=None):\n",
        "  if vid is None:\n",
        "    vid = VideoWriter(fps=60, filename=name)\n",
        "  if extent is None:\n",
        "    extent = jp.abs(tracks).max()*1.2\n",
        "  if bar_len is None:\n",
        "    bar_len = len(tracks)\n",
        "  for i, points in enumerate(tracks):\n",
        "    if not (i<slow_start or i%rate==0):\n",
        "      continue\n",
        "    img = show_lenia(params, points, extent, w=w, show_UG=show_UG)\n",
        "    bar = np.linspace(0, bar_len, img.shape[1])\n",
        "    bar = (0.5+(bar>=i+bar_ofs)[:,None]*jp.ones(3)*0.5)[None].repeat(2, 0)\n",
        "    frame = jp.vstack([img, bar])\n",
        "    if text is not None:\n",
        "      frame = text_overlay(frame, text)\n",
        "    vid(frame)\n",
        "  return vid"
      ]
    },
    {
      "cell_type": "code",
      "execution_count": null,
      "metadata": {
        "id": "-c6wQMQq0QvQ"
      },
      "outputs": [],
      "source": [
        "params = Params(mu_k=4.0, sigma_k=1.0, w_k=0.022, mu_g=0.6, sigma_g=0.15, c_rep=1.0)\n",
        "key = jax.random.PRNGKey(20)\n",
        "points0 = (jax.random.uniform(key, [200, 2])-0.5)*12.0\n",
        "dt = 0.1\n",
        "\n",
        "def odeint_euler(f, params, x0, dt, n):\n",
        "  def step_f(x, _):\n",
        "    x = x+dt*f(params, x)\n",
        "    return x, x\n",
        "  return jax.lax.scan(step_f, x0, None, n)[1]\n",
        "\n",
        "rotor_story = odeint_euler(motion_f, params, points0, dt, 10000)\n",
        "animate_lenia(params, rotor_story, name='rotor.mp4')"
      ]
    },
    {
      "cell_type": "markdown",
      "metadata": {
        "id": "UEf0d6Q4bJEl"
      },
      "source": [
        "Left plot shows *lenia* field $\\mathbf{U}$ in blue, with yellow overlay $\\mathbf{G}$. Right visualization shows the evolution of the \"energy\" field $\\mathbf{E}$. White color corresponds to the empty space energy level equal to $G(0)$. Red areas show higher energy levels produced by the repulsion field $\\mathbf{R}$. In green areas the growth field $\\mathbf{G}$ outweighs repulsion. The black dash on the colorbar corresponds to the average value of $\\mathbf{E}$ at current particle locations.\n",
        "\n",
        "We see these simple rules can produce complex and interesting behaviors. The system undergoes a sequence of transitions through complex formations, some of which look almost stable and ends up in a spinning attractor. Different random seeds produce different scenarios and sometimes even lead to a different final state."
      ]
    },
    {
      "cell_type": "markdown",
      "metadata": {
        "id": "wumarN74h9cV"
      },
      "source": [
        "## Energy analysis\n",
        "\n",
        "The total system energy that we express as $E_\\text{total}=\\sum_i \\mathbf{E}(\\mathbf{p}_i)$ provides an interesting perspective on the system dynamics:"
      ]
    },
    {
      "cell_type": "code",
      "execution_count": null,
      "metadata": {
        "id": "XAzwglvGtDPu"
      },
      "outputs": [],
      "source": [
        "def point_fields_f(params, points):\n",
        "  return jax.vmap(partial(fields_f, params, points))(points)\n",
        "\n",
        "def total_energy_f(params, points):\n",
        "  return point_fields_f(params, points).E.sum()"
      ]
    },
    {
      "cell_type": "code",
      "execution_count": null,
      "metadata": {
        "cellView": "form",
        "id": "QbHmd2ldbkkd"
      },
      "outputs": [],
      "source": [
        "#@title (energy plot)\n",
        "energy_log = jax.lax.map(partial(total_energy_f, params), rotor_story)\n",
        "pl.figure(figsize=(8, 4))\n",
        "pl.ylim(energy_log.min()-10.0, 30.0)\n",
        "pl.plot(energy_log);"
      ]
    },
    {
      "cell_type": "markdown",
      "metadata": {
        "id": "DHVqrTg8vVbq"
      },
      "source": [
        "As we see, the total system energy is mostly decreasing through a series of phase transitions between different formations. Nevertheless there are intervals where the energy is increasing. Why is this happening? Shouldn't the system that follows the energy gradient, eventually find a stable local minima? Turns out that there is one subtle detail which makes the dynamics much more interesting. Each particle greedily minimizes its *own energy* without considering its influence on other particles. We can propose a different motion rule, where all particles move in the direction that minimizes the *total energy*:\n",
        "\n",
        "$$ \\frac{d\\mathbf{p}_i}{dt} = - \\left[ \\frac{∂E_\\text{total}}{∂\\mathbf{p}_i} \\right]^\\top = - \\left[ \\frac{∂ \\sum_j \\mathbf{E}(\\mathbf{p}_j)}{∂\\mathbf{p}_i} \\right]^\\top$$\n",
        "\n",
        "We can easily express this intent using automatic differentiation:"
      ]
    },
    {
      "cell_type": "code",
      "execution_count": null,
      "metadata": {
        "id": "wZu0gMiwhi_B"
      },
      "outputs": [],
      "source": [
        "def total_motion_f(params, points):\n",
        "  return -jax.grad(partial(total_energy_f, params))(points)"
      ]
    },
    {
      "cell_type": "markdown",
      "metadata": {
        "id": "ZsXrBSAHh4B8"
      },
      "source": [
        "In the following video we run the global energy descent for the first 2000 steps, then switch to the local descent. We can see that the global optimization indeed drives the system into a stable low-energy state. Once we switch to the local rule, the system escapes this state and enters a dynamic attractor similar to the one from the previous simulation."
      ]
    },
    {
      "cell_type": "code",
      "execution_count": null,
      "metadata": {
        "cellView": "form",
        "id": "heD86smCxcH4"
      },
      "outputs": [],
      "source": [
        "#@title (global then local)\n",
        "story0 = odeint_euler(total_motion_f, params, points0, dt, 2000)\n",
        "story1 = odeint_euler(motion_f, params, story0[-1], dt, 8000)\n",
        "joined_story = jp.concatenate([story0, story1])\n",
        "kw = dict(bar_len=len(joined_story), extent=jp.abs(joined_story).max()*1.2)\n",
        "vid = animate_lenia(params, story0, text=\"Global descent\", **kw)\n",
        "animate_lenia(params, story1, text=\"\\nLocal descent\", vid=vid, bar_ofs=len(story0), **kw)"
      ]
    },
    {
      "cell_type": "code",
      "execution_count": null,
      "metadata": {
        "cellView": "form",
        "id": "MaID5Lomylqm"
      },
      "outputs": [],
      "source": [
        "#@title (compare energy logs)\n",
        "joined_energy_log = jax.vmap(partial(total_energy_f, params))(joined_story)\n",
        "pl.figure(figsize=(8, 4))\n",
        "pl.plot(energy_log, label='local rule')\n",
        "pl.plot(joined_energy_log, label='global (steps <2000), then local rule')\n",
        "pl.ylim(joined_energy_log.min()-10, energy_log[10]);\n",
        "pl.legend()\n",
        "pl.xlabel('step')\n",
        "pl.ylabel('total energy');"
      ]
    },
    {
      "cell_type": "markdown",
      "metadata": {
        "id": "0wOuKxyDjFsq"
      },
      "source": [
        "If we compare energy plots from two simulations, we see that the global descent finds a much lower energy state that can't be sustained by the local update rule. Nevertheless we focus on the local descent rule because we think that it produces much more interesting and diverse structures and behaviors. Even more surprisingly, it was recently shown ([EigenGame](https://www.deepmind.com/blog/game-theory-as-an-engine-for-large-scale-data-analysis)) that in some cases multi-agent local optimization opens new perspectives on solving well known computational problems, such as PCA.\n",
        "\n",
        "Energy evolution analysis opens ways to quickly compare and spot patterns and irregularities in large ensembles of Particle Lenia simulations. For example, the figure below shows energy histories of 100 simulations that only differ by random seed used to sample starting point positions. We also show final configurations of four selected runs."
      ]
    },
    {
      "cell_type": "code",
      "execution_count": null,
      "metadata": {
        "cellView": "form",
        "id": "zaBVDcsmyc5G"
      },
      "outputs": [],
      "source": [
        "#@title (ensemble)\n",
        "def run_key(key):\n",
        "  points0 = (jax.random.uniform(key, [200, 2])-0.5)*12.0\n",
        "  story = odeint_euler(motion_f, params, points0, dt, 10000)\n",
        "  log = jax.lax.map(partial(total_energy_f, params), story)\n",
        "  return story, log\n",
        "stories, logs = jax.vmap(run_key)(jax.random.split(key, 100))\n",
        "\n",
        "pl.figure(figsize=(16, 4))\n",
        "#pl.gca().yaxis.tick_right()\n",
        "pl.tick_params(labelright=True)\n",
        "pl.title('100 simulations')\n",
        "pl.plot(logs.T, alpha=0.2, color='grey');\n",
        "pl.ylabel('total energy')\n",
        "pl.ylim(logs.min()-10, 10);\n",
        "imgs = []\n",
        "for i in [8, 17, 52, 81]:\n",
        "  e = logs[i]\n",
        "  pl.plot(e)\n",
        "  img = show_lenia(params, stories[i, -1], 11.0, w=242, show_cmap=False)\n",
        "  imgs.append(np.array(text_overlay(img, \"E=%.2f\"%e[-1], color='black')))\n",
        "pl.show()\n",
        "imshow(np.hstack(imgs))"
      ]
    },
    {
      "cell_type": "markdown",
      "metadata": {
        "id": "SZf4wWoJimP6"
      },
      "source": [
        "## Other experiments"
      ]
    },
    {
      "cell_type": "markdown",
      "metadata": {
        "id": "VTOXNeswJzQ7"
      },
      "source": [
        "### On scale invariance\n",
        "\n",
        "Original Lenia is a PDE system, which means that in order to simulate it on a computer we have to discretize the space somehow. It was shown that Lenia creatures can exist on regular and even non-regular grids of various resolutions. Of course, discretization artifacts can't be completely neglected, for example some behaviors can't exist if the grid resolution is too low, while other behaviors may exploit the raster grid structure and exist at low resolutions only.\n",
        "\n",
        "In Particle Lenia, the number of particles can be seen as an analog to the grid resolution. In this section we try to see if it's possible to reproduce a specific pattern with a different number of particles. Consider a 200-particle \"rotor\" pattern we discovered in the previous section (third from left on the figure above). Let's apply following transformations to it:\n",
        "\n",
        "* Scale point coordinates and extent of the kernel $\\mathbf{K}$ by two: $\\mathbf{p}'_i = 2\\mathbf{p}_i, \\mu_K'=2\\mu_K, \\sigma_K'=2\\sigma_K$. It's easy to see that this transformation doesn't change the values of $\\mathbf{U}$ (and thus $\\mathbf{G}=G(\\mathbf{U})$) perceived by particles, but they are distributed much sparser now, so repulsion forces have weakened or vanished.\n",
        "\n",
        "* Replace each particle with four new ones to restore density and repulsion force. The previous step increased the area covered by the formation four times. Now we replace each particle with four new ones, distributed around the old particle position in a rotated cross fashion (similar to the [rotated grid super-sampling](https://blog.demofox.org/2015/04/23/4-rook-antialiasing-rgss/))\n",
        "\n",
        "* Fix the range of $\\mathbf{U}$. The previous step quadrupled the number of particles, which in turn made values of $\\mathbf{U}$ four times larger on average. To compensate, we may either set $w_K' = w_K/4$, or adjust $\\mu_G'=4\\mu_G, \\sigma_G'=4\\sigma_G$. We prefer to use the former method.\n",
        "\n",
        "The above procedure is implemented in the following code. Let's try to upscale the third pattern from the previous diagram:"
      ]
    },
    {
      "cell_type": "code",
      "execution_count": null,
      "metadata": {
        "id": "SCzPUqTQeS68"
      },
      "outputs": [],
      "source": [
        "def upscale_lenia(p: Params, points):\n",
        "  params2 = p._replace(mu_k=p.mu_k*2, sigma_k=p.sigma_k*2, w_k=p.w_k/4)\n",
        "  offsets = jp.float32([[3,1], [-1,3], [-3,-1], [1,-3]])/6\n",
        "  points2 = (points[:,None,:]*2 + offsets).reshape(-1, 2)\n",
        "  return params2, points2\n",
        "\n",
        "params2, points2 = upscale_lenia(params, stories[52,-1])\n",
        "story2 = odeint_euler(motion_f, params2, points2, dt*2, 10000)\n",
        "animate_lenia(params2, story2, rate=20, w=600, show_UG=False)"
      ]
    },
    {
      "cell_type": "markdown",
      "metadata": {
        "id": "Yz0cYQEdNjOp"
      },
      "source": [
        "The proposed method allowed us to reproduce the 200-particle \"rotor\" behavior with 800 particles. Note that in general we are not guaranteed to succeed, as some patterns may depend on the granularity of the \"matter\" to function properly. We also observed that the \"rotor\" is quite sensitive to small perturbations and can easily fall into a lower energy attractor.\n",
        "\n",
        "You may notice that the set of parameters we use is a bit redundant. In particular, multiplying $w_K$ and dividing $\\mu_G$ and $\\sigma_G$ by the same coefficient doesn't have an impact on the system dynamics. To keep $\\mu_G$ and $\\sigma_G$ in the same range across different scales, we use numerical integration to normalize the kernel $\\mathbf{K}$:"
      ]
    },
    {
      "cell_type": "code",
      "execution_count": null,
      "metadata": {
        "id": "lnFipRBB4mPj"
      },
      "outputs": [],
      "source": [
        "def calc_K_weight(mu, sigma, dim_n):\n",
        "  r = jp.linspace(max(mu-sigma*4, 0.0), mu+sigma*4, 51)\n",
        "  y = peak_f(r, mu, sigma) * r**(dim_n-1)\n",
        "  s = jp.trapz(y, r) * {2:2,3:4}[dim_n] * jp.pi\n",
        "  return 1.0/s\n",
        "\n",
        "def create_params(m_k, s_k, m_g, s_g, rep, dim_n):\n",
        "  w_k = calc_K_weight(m_k, s_k, dim_n)\n",
        "  return Params(m_k, s_k, w_k, m_g, s_g, rep)"
      ]
    },
    {
      "cell_type": "markdown",
      "metadata": {
        "id": "hdyDHiN0G7xX"
      },
      "source": [
        "### 3D creatures\n",
        "\n",
        "One of the benefits of particle-based approaches is the ease of scaling to higher dimensions. The Lenia code we wrote above can simulate behavior of 3D particles without modification. By the way, 3D rendering is implemented in pure JAX, please refer to [this article](https://google-research.github.io/self-organising-systems/2022/jax-raycast/) for details."
      ]
    },
    {
      "cell_type": "code",
      "execution_count": null,
      "metadata": {
        "cellView": "form",
        "id": "SPR7nRL3NxGu"
      },
      "outputs": [],
      "source": [
        "#@title (render 3d)\n",
        "def camera_rays(forward, view_size, fx=0.6, world_up=jp.array([0.,1.,0.])):\n",
        "  right = jp.cross(forward, world_up)\n",
        "  down = jp.cross(right, forward)\n",
        "  R = normalize(jp.vstack([right, down, forward]))\n",
        "  w, h = view_size\n",
        "  y, x = jp.mgrid[1:-1:h*1j, -1:1:w*1j]\n",
        "  return normalize(jp.dstack([x*fx, y*(fx/w*h), jp.ones_like(x)])) @ R\n",
        "\n",
        "def raycast(sdf, p0, dir, step_n=50):\n",
        "  def f(_, p):\n",
        "    return p+sdf(p)*dir\n",
        "  return jax.lax.fori_loop(0, step_n, f, p0)\n",
        "\n",
        "def cast_shadow(sdf, light_dir, p0, step_n=50, hardness=8.0):\n",
        "  def f(_, carry):\n",
        "    t, shadow = carry\n",
        "    h = sdf(p0+light_dir*t)\n",
        "    return t+h, jp.clip(hardness*h/t, 0.0, shadow)\n",
        "  return jax.lax.fori_loop(0, step_n, f, (1e-2, 1.0))[1]\n",
        "\n",
        "def shade_f(surf_color, shadow, raw_normal, ray_dir, light_dir):\n",
        "  ambient = norm(raw_normal)\n",
        "  normal = raw_normal/ambient\n",
        "  diffuse = normal.dot(light_dir).clip(0.0)*shadow\n",
        "  half = normalize(light_dir-ray_dir)\n",
        "  spec = 0.3 * shadow * half.dot(normal).clip(0.0)**200.0\n",
        "  light = 0.7*diffuse+0.2*ambient\n",
        "  return surf_color*light + spec\n",
        "\n",
        "def scene_sdf(balls, colors, p, ball_r=0.5, c=8.0, with_color=False):\n",
        "  dists = norm(p-balls)-ball_r\n",
        "  balls_dist = -jax.nn.logsumexp(-dists*c)/c\n",
        "  floor_dist = p[1]+15.0  # floor is at y==-15.0\n",
        "  min_dist = jp.minimum(balls_dist, floor_dist)\n",
        "  if not with_color:\n",
        "    return min_dist\n",
        "  x, y, z = jp.tanh(jp.sin(0.5*p*jp.pi)*20.0)\n",
        "  floor_color = (0.5+(x*z)*0.1)*jp.ones(3)\n",
        "  balls_color = jax.nn.softmax(-dists*c) @ colors\n",
        "  color = jp.choose(jp.int32(floor_dist < balls_dist),\n",
        "            [balls_color, floor_color], mode='clip')\n",
        "  return min_dist, color\n",
        "\n",
        "@partial(jax.jit, static_argnames=['view_size'])\n",
        "def render_lenia3d(params, points,\n",
        "                 view_size=(640, 400),\n",
        "                 camera_pos=jp.array([10.0, 15.0, 10.0]),\n",
        "                 target_pos=jp.array([0.0, 0.0, 0.0]),\n",
        "                 light_dir=jp.array([1.5, 1.0, 0.0]),\n",
        "                 sky_color=jp.array([0.3, 0.4, 0.7])):\n",
        "  f = point_fields_f(params, points)\n",
        "  colors = cmap_ug(f.U, f.G)\n",
        "  sdf = partial(scene_sdf, points, colors)\n",
        "  normal_color_f = jax.grad(partial(sdf, with_color=True), has_aux=True)\n",
        "  light_dir = normalize(light_dir)\n",
        "\n",
        "  def render_ray(ray_dir):\n",
        "    hit_pos = raycast(sdf, camera_pos, ray_dir)\n",
        "    shadow = cast_shadow(sdf, light_dir, hit_pos)\n",
        "    raw_normal, surf_color = normal_color_f(hit_pos)\n",
        "    color = shade_f(surf_color, shadow, raw_normal, ray_dir, light_dir)\n",
        "    escape = jp.tanh(norm(hit_pos)-50.0)*0.5+0.5\n",
        "    color = color + (sky_color-color)*escape\n",
        "    return color**(1.0/2.2)  # gamma correction\n",
        "\n",
        "  ray_dir = camera_rays(target_pos-camera_pos, view_size)\n",
        "  return vmap2(render_ray)(ray_dir)"
      ]
    },
    {
      "cell_type": "code",
      "execution_count": null,
      "metadata": {
        "colab": {
          "background_save": true
        },
        "id": "k2_VvE8ZQiuS"
      },
      "outputs": [],
      "source": [
        "def sample_ball(key, n, R=8.4, dim_n=3):\n",
        "  k1, k2 = jax.random.split(key)\n",
        "  pos = normalize(jax.random.normal(k1, [n, dim_n]))\n",
        "  return pos * jax.random.uniform(k2, [n, 1])**(1/dim_n)*R\n",
        "\n",
        "params3d = create_params(4.3, 1.1, 0.23, 0.06, 1.0, dim_n=3)\n",
        "key = jax.random.PRNGKey(13)\n",
        "points = sample_ball(key, 256)\n",
        "story3d = odeint_euler(motion_f, params3d, points, 0.2, 15000)\n",
        "with VideoWriter() as vid:\n",
        "  for i, p in enumerate(story3d[::20]):\n",
        "    vid(render_lenia3d(params3d, p,\n",
        "        camera_pos=jp.array([jp.cos(i/100), 0.5, jp.sin(i/100)])*13.))"
      ]
    },
    {
      "cell_type": "markdown",
      "metadata": {
        "id": "Mde4I0dfuxbL"
      },
      "source": [
        "This video highlights another aspect of Particle Lenia. Particles are initially uniformly scattered in space. Then a cluster with organized structure starts to grow. The shape and behavior of this cluster dramatically changes as it absorbs more particles. Eventually particles assemble into a mushroom-shaped glider that slowly drifts away. It seems that this shape is an attractor for a given set of Lenia parameters and number of points, as running simulation with different initial conditions produces the similar gliders, flying in different directions."
      ]
    },
    {
      "cell_type": "markdown",
      "metadata": {
        "id": "k6PZioLheA1z"
      },
      "source": [
        "### Giving particles voice\n",
        "\n",
        "While working on this article we experimented with various ways of visualizing particles and fields surrounding them. We also thought that it might be interesting to create a kind of audio representation of the particle system state. The process of turning data into sounds is often called [sonification](https://en.wikipedia.org/wiki/Sonification). We tried a simple method when every particle is given a voice, which has a frequency depending on the particle potential energy and volume is proportional to the particle current speed. The video below shows an example sonification of the simulation from the beginning of this article."
      ]
    },
    {
      "cell_type": "code",
      "execution_count": null,
      "metadata": {
        "cellView": "form",
        "colab": {
          "background_save": true
        },
        "id": "L9SckwekgO3U"
      },
      "outputs": [],
      "source": [
        "#@title (audio generation)\n",
        "from scipy.io import wavfile\n",
        "\n",
        "def resample(a, n):\n",
        "  i = jp.linspace(0, len(a)-1, n)\n",
        "  i, f = jp.int32(i), i%1\n",
        "  f = jp.expand_dims(f, jp.arange(1,a.ndim))\n",
        "  return a[i] + (a[i+1]-a[i])*f\n",
        "\n",
        "def sonify_story(params, story, sample_rate=48000, step_sec=60*10):\n",
        "  sample_n = jp.int32(sample_rate*len(story)/step_sec)\n",
        "  p_fields_f = lambda p: jax.vmap(partial(fields_f, params, p))(p)\n",
        "  e_story = jax.lax.map(p_fields_f, story).E\n",
        "  v_story = norm(jax.lax.map(partial(motion_f, params), story))\n",
        "  e_story, v_story = resample(e_story, sample_n), resample(v_story, sample_n)\n",
        "  base_freq = jp.exp2((0.5+e_story)*6.0)\n",
        "  s = jp.exp(2j*jp.pi*base_freq/sample_rate).cumprod(0)\n",
        "  v = ((s**80 + s**100 + s**200)*v_story).mean(-1)\n",
        "  v = 0.1 * jp.c_[v.real, v.imag] / jp.abs(v).mean()\n",
        "  v *= jp.linspace(0, 10, sample_n)[:,None].clip(0, 1)  # fade-in audio\n",
        "  wavfile.write('out.wav', sample_rate, np.float32(v))\n",
        "\n",
        "sonify_story(params, rotor_story)\n",
        "!ffmpeg -hide_banner -loglevel error -y -i rotor.mp4 -i out.wav -c:v copy -c:a aac rotor_audio.mp4\n",
        "show_videofile('rotor_audio.mp4')"
      ]
    },
    {
      "cell_type": "markdown",
      "metadata": {
        "id": "J0hW-VatZ9Jh"
      },
      "source": [
        "## Related work\n",
        "\n",
        "The text above contains a number of references to other works, which we would like to summarize and categorize in this section.\n",
        "\n",
        "**Lenia and Flow Lenia** Particle Lenia was directly inspired by Flow Lenia ([arxiv](https://arxiv.org/abs/2212.07906), [colab](https://colab.research.google.com/drive/14nw3aK5aOMH_brKYdRsXHKt0OgK1RteK?usp=sharing), [videos](https://sites.google.com/view/flowlenia/)) and is designed with the same goals in mind (mass conservation and multiple species in the same world). Our model description closely follows terminology and notation used in original Lenia paper ([arxiv](https://arxiv.org/abs/1812.05433), [video](https://www.youtube.com/watch?v=iE46jKYcI4Y)). We would also like to mention the Lenia Expanded Universe ([arxiv](https://arxiv.org/abs/2005.03742), [video](https://www.youtube.com/watch?v=HT49wpyux-k)) and [Sensorimotor Lenia](https://developmentalsystems.org/sensorimotor-lenia/) articles, because they provide a clear path for future development of our work.\n",
        "\n",
        "**Energy-based models** The energy-based formulation of Particle Lenia is inspired by a number of classic models from physics and chemistry. [Lennard Jones potential](https://en.wikipedia.org/wiki/Lennard-Jones_potential) is a classic example of a system that combines attractive and repulsive potential fields. Energy terms of the [Embedded Atom Model](https://en.wikipedia.org/wiki/Embedded_atom_model) have even greater similarity to the Particle Lenia energy. The biggest difference of our model is the lack of momentum; the assumption that particles are effectively moving through a viscous substance that quickly dissipates kinetic energy. We also think it is worth mentioning [JAX MD](https://github.com/jax-md/jax-md) that implements a number of molecular models using JAX differentiable programing framework.\n",
        "\n",
        "**Particle-based artificial life** Artificial Life literature is full of examples of simple muliagent models that have sophisticated behaviors. This phenomena is often refered to as [emergence](https://en.wikipedia.org/wiki/Emergence), [self-organization](https://en.wikipedia.org/wiki/Self-organization) or [swarm intelligence](https://en.wikipedia.org/wiki/Swarm_intelligence). [Boids](https://www.red3d.com/cwr/boids/) model of flocking is a classic example from that category. There are plenty other interesting examples, such as [Primordial Particle Systems](https://www.nature.com/articles/srep37969) and [models](https://www.ventrella.com/Clusters) [based](https://www.youtube.com/watch?v=0Kx4Y9TVMGg) based on non-reciprocal forces between different particle types. Other models try to mimic  pheromone signaling through the environment (e.g. [Physarum](https://cargocollective.com/sagejenson/physarum) model).\n",
        "\n",
        "**Multi-agent optimization** Particle Lenia model can be interpreted as a collective of agents that try to minimize their individual objective functions. This gives rise to behaviors that have dramatically different characteristics from global energy minimization. Recent work on [EigenGame](https://www.deepmind.com/blog/game-theory-as-an-engine-for-large-scale-data-analysis) provides an interesting example when local multi-agent optimization has a number of desirable traits in comparison to global optimization. These traits enable new ways of solving classic computational problems."
      ]
    },
    {
      "cell_type": "markdown",
      "metadata": {
        "id": "NOY5YF3i7QQs"
      },
      "source": [
        "## Conclusion\n",
        "\n",
        "In this article we described Particle Lenia, a new particle system ODE-based artificial life model that is inspired by the Lenia PDE system.\n",
        "\n",
        "**Interactive demo and collecting creatures.** The introduction video shows a few creatures and behaviors we found by varying Particle Lenia parameters. These creatures were discovered using the interactive [browser-based demo](https://znah.net/lenia). We invite readers to participate in finding new creatures and sharing them on social media. Preview images created by the demo contain all information needed to bring them into life again, simply drag and drop the image file into the demo window!\n",
        "\n",
        "**Future work** The obvious bit that is missing from this article are multi-creature/multi-particle types experiments. Although the model simulation code can be trivially extended to support per-particle parameters, we decided to leave this exploration for the future. Another promising future work direction is goal driven search for patterns and rules capable of forming specific patterns or performing specific tasks, in the spirit of [Sensorimotor Lenia](https://developmentalsystems.org/sensorimotor-lenia/). We believe that these principles of particle swarm design can later be applied to real world self-organizing systems.\n",
        "\n",
        "**Reproducibility** All experiments and diagrams in this article were produced using this [colab notebook](https://colab.research.google.com/github/google-research/self-organising-systems/blob/master/notebooks/particle_lenia.ipynb). The [introduction video](https://youtu.be/AP3zeHyWakw) demonstrates a number of creatures that were discovered, and can be explored in the supplementary [interactive demo](https://znah.net/lenia)\n",
        "\n",
        "**Acknowledgements** We would like to thank [Bert Chan](https://chakazul.github.io/) and [INRIA Flowers](https://flowers.inria.fr/) team for inspiring this work and providing early feedback.\n",
        "\n",
        "**Citing Particle Lenia** For attribution in academic contexts, please cite the arxiv version of this article (to be released Q1 2023)"
      ]
    }
  ],
  "metadata": {
    "accelerator": "GPU",
    "colab": {
      "provenance": [],
      "include_colab_link": true
    },
    "gpuClass": "standard",
    "kernelspec": {
      "display_name": "Python 3 (ipykernel)",
      "language": "python",
      "name": "python3"
    },
    "language_info": {
      "codemirror_mode": {
        "name": "ipython",
        "version": 3
      },
      "file_extension": ".py",
      "mimetype": "text/x-python",
      "name": "python",
      "nbconvert_exporter": "python",
      "pygments_lexer": "ipython3",
      "version": "3.8.15"
    }
  },
  "nbformat": 4,
  "nbformat_minor": 0
}